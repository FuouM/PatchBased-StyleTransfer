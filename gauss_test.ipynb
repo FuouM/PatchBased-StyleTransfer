{
 "cells": [
  {
   "cell_type": "code",
   "execution_count": 1,
   "metadata": {},
   "outputs": [
    {
     "name": "stdout",
     "output_type": "stream",
     "text": [
      "Data successfully loaded from img_frs_seq.pkl\n",
      "Data successfully loaded from msk_frs_seq.pkl\n",
      "Data successfully loaded from memo_flows_fwd.pkl\n",
      "Data successfully loaded from memo_flows_bwd.pkl\n"
     ]
    }
   ],
   "source": [
    "import numpy as np\n",
    "import pickle\n",
    "import matplotlib.pyplot as plt\n",
    "import random\n",
    "from PIL import Image, ImageFilter\n",
    "import io\n",
    "\n",
    "import gaussian_mixture\n",
    "\n",
    "\n",
    "def dump_to_pickle(data, file_path: str):\n",
    "    try:\n",
    "        with open(file_path, \"wb\") as file:\n",
    "            pickle.dump(data, file)\n",
    "        print(f\"Data successfully dumped to {file_path}\")\n",
    "    except Exception as e:\n",
    "        print(f\"An error occurred while dumping data: {e}\")\n",
    "\n",
    "\n",
    "def load_from_pickle(file_path: str):\n",
    "    try:\n",
    "        with open(file_path, \"rb\") as file:\n",
    "            data = pickle.load(file)\n",
    "        print(f\"Data successfully loaded from {file_path}\")\n",
    "        return data\n",
    "    except Exception as e:\n",
    "        print(f\"An error occurred while loading data: {e}\")\n",
    "        return None\n",
    "\n",
    "\n",
    "img_frs_seq = load_from_pickle(\"img_frs_seq.pkl\")[:10]\n",
    "msk_frs_seq = load_from_pickle(\"msk_frs_seq.pkl\")[:10]\n",
    "memo_flows_fwd = load_from_pickle(\"memo_flows_fwd.pkl\")[:10]\n",
    "memo_flows_bwd = load_from_pickle(\"memo_flows_bwd.pkl\")[:10]"
   ]
  },
  {
   "cell_type": "code",
   "execution_count": 3,
   "metadata": {},
   "outputs": [
    {
     "name": "stdout",
     "output_type": "stream",
     "text": [
      "(540, 960)\n"
     ]
    },
    {
     "data": {
      "text/plain": [
       "array([[  0,   0,   0, ...,   0,   0,   0],\n",
       "       [  0,   0,   0, ...,   0,   0,   0],\n",
       "       [  0,   0,   0, ...,   0,   0,   0],\n",
       "       ...,\n",
       "       [255, 255, 255, ...,   0,   0,   0],\n",
       "       [255, 255, 255, ...,   0,   0,   0],\n",
       "       [255, 255, 255, ...,   0,   0,   0]], dtype=uint8)"
      ]
     },
     "execution_count": 3,
     "metadata": {},
     "output_type": "execute_result"
    }
   ],
   "source": [
    "print(msk_frs_seq[0].shape)\n",
    "msk_frs_seq[0]"
   ]
  },
  {
   "cell_type": "code",
   "execution_count": 4,
   "metadata": {},
   "outputs": [
    {
     "name": "stdout",
     "output_type": "stream",
     "text": [
      "(540, 960, 2)\n"
     ]
    },
    {
     "data": {
      "text/plain": [
       "array([[[-4.132888  , -0.46109635],\n",
       "        [-4.1293077 , -0.470209  ],\n",
       "        [-4.127161  , -0.47790512],\n",
       "        ...,\n",
       "        [-4.3802576 , -0.28641346],\n",
       "        [-4.368211  , -0.2896058 ],\n",
       "        [-4.3526516 , -0.29223448]],\n",
       "\n",
       "       [[-4.125264  , -0.46568415],\n",
       "        [-4.1210237 , -0.47342286],\n",
       "        [-4.118477  , -0.48078793],\n",
       "        ...,\n",
       "        [-4.3693104 , -0.2865148 ],\n",
       "        [-4.3581553 , -0.2894902 ],\n",
       "        [-4.3402147 , -0.2917064 ]],\n",
       "\n",
       "       [[-4.1255813 , -0.46747857],\n",
       "        [-4.119181  , -0.4753293 ],\n",
       "        [-4.1161637 , -0.48072743],\n",
       "        ...,\n",
       "        [-4.354258  , -0.28574163],\n",
       "        [-4.3425856 , -0.28841752],\n",
       "        [-4.325902  , -0.28950787]],\n",
       "\n",
       "       ...,\n",
       "\n",
       "       [[-3.9279518 , -0.39873332],\n",
       "        [-3.928284  , -0.39801285],\n",
       "        [-3.9285238 , -0.3969612 ],\n",
       "        ...,\n",
       "        [-3.8778856 , -0.68054926],\n",
       "        [-3.8709984 , -0.6824064 ],\n",
       "        [-3.8612819 , -0.6832982 ]],\n",
       "\n",
       "       [[-3.9284027 , -0.39916244],\n",
       "        [-3.9290943 , -0.39813012],\n",
       "        [-3.927842  , -0.39754292],\n",
       "        ...,\n",
       "        [-3.8846073 , -0.68137443],\n",
       "        [-3.8788462 , -0.68326974],\n",
       "        [-3.864539  , -0.68526125]],\n",
       "\n",
       "       [[-3.9282293 , -0.39966613],\n",
       "        [-3.9301214 , -0.39849368],\n",
       "        [-3.928326  , -0.39764073],\n",
       "        ...,\n",
       "        [-3.8856802 , -0.6829902 ],\n",
       "        [-3.8795083 , -0.6841965 ],\n",
       "        [-3.867852  , -0.6861067 ]]], dtype=float32)"
      ]
     },
     "execution_count": 4,
     "metadata": {},
     "output_type": "execute_result"
    }
   ],
   "source": [
    "print(memo_flows_fwd[0].shape)\n",
    "memo_flows_fwd[0]"
   ]
  },
  {
   "cell_type": "code",
   "execution_count": 2,
   "metadata": {},
   "outputs": [],
   "source": [
    "output_from, output_to = gaussian_mixture.generate(\n",
    "    msk_frs_seq[0], memo_flows_fwd[0], 10, 10, 20, 0\n",
    ")"
   ]
  },
  {
   "cell_type": "code",
   "execution_count": 3,
   "metadata": {},
   "outputs": [
    {
     "data": {
      "text/plain": [
       "(175.03506469726562, 267.6099853515625)"
      ]
     },
     "execution_count": 3,
     "metadata": {},
     "output_type": "execute_result"
    }
   ],
   "source": [
    "output_from[0]"
   ]
  },
  {
   "cell_type": "code",
   "execution_count": 4,
   "metadata": {},
   "outputs": [
    {
     "name": "stdout",
     "output_type": "stream",
     "text": [
      "[(170.95513916015625, 267.1158447265625), (186.9873046875, 257.1708679199219), (15.52493667602539, 331.8918762207031), (191.7922821044922, 276.1449279785156), (61.568416595458984, 312.13775634765625), (158.15711975097656, 279.3189392089844), (146.9554901123047, 281.4184875488281), (27.887954711914062, 343.26544189453125), (169.16452026367188, 278.46148681640625), (186.54273986816406, 292.6495361328125)]\n"
     ]
    }
   ],
   "source": [
    "print(output_to[:10])"
   ]
  },
  {
   "cell_type": "code",
   "execution_count": 5,
   "metadata": {},
   "outputs": [
    {
     "data": {
      "text/plain": [
       "1321"
      ]
     },
     "execution_count": 5,
     "metadata": {},
     "output_type": "execute_result"
    }
   ],
   "source": [
    "len(output_to)"
   ]
  },
  {
   "cell_type": "code",
   "execution_count": 23,
   "metadata": {},
   "outputs": [],
   "source": [
    "def generate_gaussian_plot(\n",
    "    output: list[tuple[float, float]],\n",
    "    height: int,\n",
    "    width: int,\n",
    "    colors,\n",
    "    radius: float = 10.0,\n",
    "    save_png=False,\n",
    "    save_path=\"output.png\",\n",
    "    show=False,\n",
    "    blur_radius=2.0,\n",
    "):\n",
    "    fig = plt.figure(figsize=(width / 100, height / 100), dpi=100)\n",
    "    ax = plt.Axes(fig, [0.0, 0.0, 1.0, 1.0])\n",
    "    fig.add_axes(ax)\n",
    "\n",
    "    ax.set_xlim(0, width)\n",
    "    ax.set_ylim(0, height)\n",
    "    ax.set_aspect(\"equal\")\n",
    "\n",
    "    ax.axis(\"off\")\n",
    "\n",
    "    xs, ys = zip(*output)\n",
    "    ys = [height - y for y in ys]  # Flip y-coordinates\n",
    "\n",
    "    ax.scatter(xs, ys, s=np.pi * radius**1.8, c=colors, marker=\"o\", edgecolor=\"none\")\n",
    "\n",
    "    fig.canvas.draw()\n",
    "\n",
    "    buf = io.BytesIO()\n",
    "    fig.savefig(buf, format=\"png\", bbox_inches=\"tight\", pad_inches=0)\n",
    "\n",
    "    buf.seek(0)\n",
    "\n",
    "    image_pil = Image.open(buf)\n",
    "    image_pil = image_pil.convert(\"RGB\")\n",
    "\n",
    "    image_blurred = image_pil.filter(ImageFilter.GaussianBlur(blur_radius))\n",
    "\n",
    "    if save_png:\n",
    "        image_blurred.save(save_path, format=\"png\")\n",
    "    image_blurred = np.array(image_blurred)\n",
    "\n",
    "    buf.close()\n",
    "\n",
    "    if show:\n",
    "        plt.imshow(image_blurred)\n",
    "    else:\n",
    "        plt.close(fig)\n",
    "    return image_blurred"
   ]
  },
  {
   "cell_type": "code",
   "execution_count": 27,
   "metadata": {},
   "outputs": [],
   "source": [
    "random.seed(0)\n",
    "random_colors = np.random.rand(len(output_from), 3)"
   ]
  },
  {
   "cell_type": "code",
   "execution_count": 29,
   "metadata": {},
   "outputs": [],
   "source": [
    "image_rgb = generate_gaussian_plot(\n",
    "    output_from,\n",
    "    540,\n",
    "    960,\n",
    "    random_colors,\n",
    "    radius=10,\n",
    "    save_png=True,\n",
    "    save_path=\"cool.png\",\n",
    "    blur_radius=3.0,\n",
    ")"
   ]
  },
  {
   "cell_type": "code",
   "execution_count": 30,
   "metadata": {},
   "outputs": [],
   "source": [
    "image_rgb = generate_gaussian_plot(\n",
    "    output_to,\n",
    "    540,\n",
    "    960,\n",
    "    random_colors,\n",
    "    radius=10,\n",
    "    save_png=True,\n",
    "    save_path=\"cool1.png\",\n",
    "    blur_radius=3.0,\n",
    ")"
   ]
  }
 ],
 "metadata": {
  "language_info": {
   "name": "python"
  }
 },
 "nbformat": 4,
 "nbformat_minor": 2
}
