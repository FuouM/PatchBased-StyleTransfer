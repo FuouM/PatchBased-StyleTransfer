{
 "cells": [
  {
   "cell_type": "code",
   "execution_count": 2,
   "metadata": {},
   "outputs": [],
   "source": [
    "import os\n",
    "import sys\n",
    "sys.path.append(os.path.dirname(os.path.abspath(__file__)))\n",
    "import poisson_disk_module\n"
   ]
  },
  {
   "cell_type": "code",
   "execution_count": 3,
   "metadata": {},
   "outputs": [],
   "source": [
    "radius = 3.0\n",
    "x_min = [-10.0, -10.0]\n",
    "x_max = [10.0, 10.0]"
   ]
  },
  {
   "cell_type": "code",
   "execution_count": 4,
   "metadata": {},
   "outputs": [
    {
     "name": "stdout",
     "output_type": "stream",
     "text": [
      "[(-9.275944709777832, -7.445766448974609), (-4.674937725067139, -4.98830509185791), (-3.3540878295898438, -7.722657680511475), (-9.32419490814209, -1.4767560958862305), (-0.21237707138061523, -6.630049705505371)]\n"
     ]
    }
   ],
   "source": [
    "samples = poisson_disk_module.poisson_disk_sampling(radius, x_min, x_max)\n",
    "print(samples[:5])"
   ]
  }
 ],
 "metadata": {
  "language_info": {
   "name": "python"
  }
 },
 "nbformat": 4,
 "nbformat_minor": 2
}
