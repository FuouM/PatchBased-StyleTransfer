{
 "cells": [
  {
   "cell_type": "code",
   "execution_count": 1,
   "metadata": {},
   "outputs": [],
   "source": [
    "import poisson_disk_module\n"
   ]
  },
  {
   "cell_type": "code",
   "execution_count": 2,
   "metadata": {},
   "outputs": [],
   "source": [
    "radius = 10.0\n",
    "x_min = [0.0, 0.0]\n",
    "x_max = [256.0, 256.0]"
   ]
  },
  {
   "cell_type": "code",
   "execution_count": 3,
   "metadata": {},
   "outputs": [
    {
     "name": "stdout",
     "output_type": "stream",
     "text": [
      "[(9.267903327941895, 32.69418716430664), (23.33363151550293, 20.10196304321289), (4.566746711730957, 46.679595947265625), (24.60459327697754, 40.88572692871094), (14.9910888671875, 13.538116455078125), (5.6075439453125, 3.6715354919433594), (20.722082138061523, 31.44792938232422), (23.569068908691406, 5.644824981689453), (17.18854522705078, 57.65998077392578), (33.53968048095703, 2.591794013977051)]\n"
     ]
    }
   ],
   "source": [
    "samples = poisson_disk_module.poisson_disk_sampling(radius, x_min, x_max)\n",
    "print(samples[:10])"
   ]
  }
 ],
 "metadata": {
  "language_info": {
   "name": "python"
  }
 },
 "nbformat": 4,
 "nbformat_minor": 2
}
